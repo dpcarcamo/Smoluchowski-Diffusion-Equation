{
 "cells": [
  {
   "cell_type": "code",
   "execution_count": 1,
   "metadata": {},
   "outputs": [
    {
     "data": {
      "text/plain": [
       "<Figure size 500x300 with 1 Axes>"
      ]
     },
     "metadata": {},
     "output_type": "display_data"
    }
   ],
   "source": [
    "import numpy as np\n",
    "import matplotlib.pyplot as plt\n",
    "from matplotlib.animation import FuncAnimation\n",
    "plt.style.use('ggplot')\n",
    "\n",
    "fig, ax = plt.subplots(figsize=(5, 3))\n",
    "ax.set(xlim=(-3, 3), ylim=(-1, 1))\n",
    "\n",
    "x = np.linspace(-3, 3, 91)\n",
    "t = np.linspace(1, 25, 30)\n",
    "X2, T2 = np.meshgrid(x, t)\n",
    "\n",
    "sinT2 = np.sin(2*np.pi*T2/T2.max())\n",
    "F = 0.9*sinT2*np.sinc(X2*(1 + sinT2))\n",
    "\n",
    "line = ax.plot(x, F[0, :], color='k', lw=2)[0]\n",
    "\n",
    "def animate(i):\n",
    "    line.set_ydata(F[i,:])\n",
    "    \n",
    "anim = FuncAnimation(\n",
    "    fig, animate, interval=100, frames=len(t)-1)\n",
    "\n",
    "plt.draw()\n",
    "plt.show()\n",
    "\n",
    "anim.save('filename.htm')\n",
    "\n",
    "\n",
    "#Useful link not to this tho : https://jakevdp.github.io/blog/2012/08/18/matplotlib-animation-tutorial/"
   ]
  },
  {
   "cell_type": "code",
   "execution_count": 244,
   "metadata": {
    "scrolled": true
   },
   "outputs": [
    {
     "name": "stdout",
     "output_type": "stream",
     "text": [
      "<type 'numpy.ndarray'>\n"
     ]
    },
    {
     "data": {
      "image/png": "[encoded data removed]",
      "text/plain": [
       "<Figure size 432x288 with 1 Axes>"
      ]
     },
     "metadata": {},
     "output_type": "display_data"
    }
   ],
   "source": [
    "\"\"\"\n",
    "1 Dimensional Gas Interacting with a 1/Sqrt(r) force to nearest neighbors. This is a deterministic simulation\n",
    "to watch how systems relax to equilibrium. Particles are initialized at random positions w/ zero momenta.\n",
    "Made with reference to Jake Vanderplas' simulation found online.\n",
    "\"\"\"\n",
    "import numpy as np\n",
    "import matplotlib.pyplot as plt\n",
    "import matplotlib.animation as animation\n",
    "from scipy.spatial.distance import pdist, squareform\n",
    "from operator import itemgetter\n",
    "\n",
    "plt.style.use('ggplot')\n",
    "\n",
    "class ParticleLine: \n",
    "    def __init__(self,\n",
    "                init_state = np.asarray([[1.0,1.0],[0.5,0.5]]),\n",
    "                bounds = [-7,7],\n",
    "                M = 1,\n",
    "                Fo = 0.5,\n",
    "                # 0.1 for weaker force\n",
    "                size = 0.06):\n",
    "        \n",
    "        self.init_state = np.asarray(sorted(init_state,key=itemgetter(0)))\n",
    "        self.M = M\n",
    "        self.state = self.init_state.copy()\n",
    "        self.time_elapsed = 0\n",
    "        self.bounds = bounds\n",
    "        self.Fo = Fo\n",
    "        self.N = len(self.state)\n",
    "        self.size = size\n",
    "        self.A = np.zeros(self.N)\n",
    "        self.momentum = np.sum(line.state[:,1])\n",
    "        \n",
    "    def step(self,dt):\n",
    "        \"\"\"Evolves system by a single timestep\"\"\"\n",
    "        self.time_elapsed += dt \n",
    "        \n",
    "        # Update Position\n",
    "        self.state[:,0] += dt*self.state[:,1] + 0.5*self.A*dt**2\n",
    "        \n",
    "        # Bad fix to a weird bug \n",
    "        self.state = np.asarray(sorted(self.state, key=itemgetter(0)))\n",
    "        \n",
    "        # Calculate the distance -> force -> acceleration\n",
    "        self.D = np.abs(np.ediff1d(self.state[:,0]))\n",
    "        self.F = -self.Fo*(self.D-1.5)\n",
    "        self.F = np.insert(self.F,[0,self.N-1],[0,0])\n",
    "        self.A = -1*np.ediff1d(self.F)/self.M\n",
    "\n",
    "        \n",
    "        # Update velocities\n",
    "        self.state[:,1] += dt*self.A\n",
    "\n",
    "        # Make sure particles don't leave walls \n",
    "        crossed_x1 = (self.state[:,0] < self.bounds[0])\n",
    "        crossed_x2 = (self.state[:,0] > self.bounds[1])\n",
    "        \n",
    "        self.state[crossed_x1,0] = self.bounds[0]\n",
    "        self.state[crossed_x2,0] = self.bounds[1]\n",
    "        \n",
    "        self.state[crossed_x1,1] *= -1\n",
    "        self.state[crossed_x2,1] *= -1\n",
    "        \n",
    "#--------------------------------------------------------------------\n",
    "#Initialize a random starting state. \n",
    "np.random.seed(0)\n",
    "N = 2\n",
    "\n",
    "init_state = 7*(np.random.random((N,2))-0.5)\n",
    "init_state = sorted(init_state, key=itemgetter(0))\n",
    "init_state = np.asarray(init_state)\n",
    "init_state[:,1] *= 0\n",
    "print type(init_state)\n",
    "line = ParticleLine(init_state = init_state)\n",
    "\n",
    "dt = 1.0/100\n",
    "\n",
    "states = []\n",
    "time = []\n",
    "energies = []\n",
    "momenta = []\n",
    "for i in range(1000):\n",
    "    line.step(dt)\n",
    "    \n",
    "    state = line.state\n",
    "    t = line.time_elapsed\n",
    "    energy = np.sum(0.5*line.state[:,1]**2 + 0.5*line.Fo*(line.D-1.5)**2)\n",
    "    momentum = np.sum(line.state[:,1])\n",
    "    \n",
    "    momenta.append(momentum)\n",
    "    energies.append(energy)\n",
    "    states.append(state)\n",
    "    time.append(t)\n",
    "\n",
    "energies = np.asarray(energies)\n",
    "states = np.asarray(states)\n",
    "fig = plt.figure()\n",
    "ax = fig.add_subplot(111)\n",
    "\n",
    "for j in range(N):\n",
    "    ax.scatter(time,states[:,j,0],marker = \".\")\n",
    "    \n",
    "ax.scatter(time,energies,marker = '.',c = 'g')\n",
    "ax.scatter(time,momenta,marker = '.', c = 'k')\n",
    "plt.show()\n"
   ]
  },
  {
   "cell_type": "code",
   "execution_count": 215,
   "metadata": {},
   "outputs": [
    {
     "ename": "SyntaxError",
     "evalue": "invalid syntax (<ipython-input-215-69b94b8b0e6a>, line 36)",
     "output_type": "error",
     "traceback": [
      "\u001b[0;36m  File \u001b[0;32m\"<ipython-input-215-69b94b8b0e6a>\"\u001b[0;36m, line \u001b[0;32m36\u001b[0m\n\u001b[0;31m    \"\"\"Evolves system by a single timestep\"\"\"\u001b[0m\n\u001b[0m                                             \n^\u001b[0m\n\u001b[0;31mSyntaxError\u001b[0m\u001b[0;31m:\u001b[0m invalid syntax\n"
     ]
    }
   ],
   "source": [
    "\"\"\"\n",
    "1 Dimensional Gas Interacting with a 1/Sqrt(r) force to nearest neighbors. This is a deterministic simulation\n",
    "to watch how systems relax to equilibrium. Particles are initialized at random positions w/ zero momenta.\n",
    "Made with reference to Jake Vanderplas' simulation found online.\n",
    "\"\"\"\n",
    "\"\"\"\n",
    "import numpy as np\n",
    "import matplotlib.pyplot as plt\n",
    "import matplotlib.animation as animation\n",
    "from scipy.spatial.distance import pdist, squareform\n",
    "from operator import itemgetter\n",
    "\n",
    "plt.style.use('ggplot')\n",
    "\n",
    "class ParticleLine: \n",
    "    def __init__(self,\n",
    "                init_state = [[1,1],[0.5,0.5]],\n",
    "                bounds = [-7,7],\n",
    "                M = 1,\n",
    "                Fo = 0.3,\n",
    "# 0.1 for weaker force\n",
    "                size = 0.01,\n",
    "                A = 0):\n",
    "        \n",
    "        self.init_state = np.asarray(init_state, dtype=float)\n",
    "        self.M = M\n",
    "        self.state = self.init_state.copy()\n",
    "        self.time_elapsed = 0\n",
    "        self.bounds = bounds\n",
    "        self.Fo = Fo\n",
    "        self.N = len(self.state)\n",
    "        self.size = size\n",
    "        self.A = np.zeros(self.N)\n",
    "        \n",
    "    def step(self,dt):\n",
    "        \"\"\"Evolves system by a single timestep\"\"\"\n",
    "        self.time_elapsed += dt \n",
    "        \n",
    "        # Update Position\n",
    "        self.state[:,0] += dt*self.state[:,1] + 0.5*self.A*dt**2\n",
    "        \n",
    "        # Bad fix to a weird bug \n",
    "        self.state = np.asarray(sorted(self.state, key=itemgetter(0)))\n",
    "        \n",
    "        # Calculate the distance -> force -> acceleration\n",
    "        self.D = np.abs(np.ediff1d(self.state[:,:1]))\n",
    "        self.F = self.Fo/self.D**0.5\n",
    "        self.F = np.insert(self.F,[0,self.N-1],[0,0])\n",
    "        self.A = -1*np.ediff1d(self.F)/self.M\n",
    "\n",
    "        \n",
    "        # Update velocities\n",
    "        self.state[:,1] += dt*self.A\n",
    "\n",
    "        # Make sure particles don't leave walls \n",
    "        crossed_x1 = (self.state[:,0] < self.bounds[0])\n",
    "        crossed_x2 = (self.state[:,0] > self.bounds[1])\n",
    "        \n",
    "        self.state[crossed_x1,0] = self.bounds[0]\n",
    "        self.state[crossed_x2,0] = self.bounds[1]\n",
    "        \n",
    "        self.state[crossed_x1,1] *= -1\n",
    "        self.state[crossed_x2,1] *= -1\n",
    "#--------------------------------------------------------------------\n",
    "#Initialize a random starting state. \n",
    "np.random.seed(0)\n",
    "N = 3\n",
    "\n",
    "init_state = 7*(np.random.random((N,2))-0.5)\n",
    "init_state = sorted(init_state, key=itemgetter(0))\n",
    "init_state = np.asarray(init_state)\n",
    "init_state[:,1] *= 0\n",
    "\n",
    "line = ParticleLine(init_state)\n",
    "dt = 1.0/30\n",
    "\n",
    "#--------------------------------------------------------------------\n",
    "# Setting up the figures and whatnot \n",
    "fig = plt.figure()\n",
    "fig.subplots_adjust(left=0, right=1, bottom=0, top=1)\n",
    "ax = fig.add_subplot(211, aspect='auto', autoscale_on=False, xlim=(-11, 11), ylim=(-1, 2))\n",
    "ay = fig.add_subplot(212, autoscale_on=False, xlim=(-1, 10),ylim=(0,2))\n",
    "\n",
    "fig.tight_layout()\n",
    "\n",
    "# particles holds the locations of the particles\n",
    "particles = ax.plot([],[], 'b.', ms=1)[0]\n",
    "\n",
    "# rect is the box edge\n",
    "rect = plt.Rectangle(([line.bounds[0],-0.5]),2*line.bounds[1],1,ec='none', lw=2, fc='none')\n",
    "ax.add_patch(rect)\n",
    "\n",
    "\n",
    "def init():\n",
    "    global line, rect\n",
    "    particles.set_data([],[])\n",
    "    rect.set_edgecolor('none')\n",
    "    return particles, rect\n",
    "\n",
    "def animate(i):\n",
    "    \"\"\"perform animation step\"\"\"\n",
    "    global line, rect, dt, ax, ay, fig\n",
    "    \n",
    "    line.step(dt)\n",
    "    ms = 3\n",
    "\n",
    "    # update pieces of the animation\n",
    "    rect.set_edgecolor('k')\n",
    "    particles.set_data(line.state[:,0],0)\n",
    "    particles.set_markersize(ms)\n",
    "    \n",
    "    # Update the histogram every so often\n",
    "    if i % 50 == 0:\n",
    "        hist = ay.hist(np.abs(line.state[:,1]),bins='auto',color='g',normed=True,label='Speed Distribution')\n",
    "        print i\n",
    "    \n",
    "    return particles, rect\n",
    "\n",
    "ay.set(xlabel='Speed', ylabel='Frequency')\n",
    "\n",
    "ani = animation.FuncAnimation(fig, animate, frames=10000,\n",
    "                              interval=10, blit=True, init_func=init)\n",
    "\n",
    "\n",
    "# save the animation as an mp4.  This requires ffmpeg or mencoder to be\n",
    "# installed.  The extra_args ensure that the x264 codec is used, so that\n",
    "# the video can be embedded in html5.  You may need to adjust this for\n",
    "# your system: for more information, see\n",
    "# http://matplotlib.sourceforge.net/api/animation_api.html\n",
    "#ani.save('1D_particle_box.html', fps=20, extra_args=['-vcodec', 'libx264'])\n",
    "\n",
    "plt.show()\n",
    "ani.save('Testing_Switching.htm')\n",
    "\"\"\""
   ]
  },
  {
   "cell_type": "code",
   "execution_count": null,
   "metadata": {},
   "outputs": [],
   "source": [
    "D = np.abs(np.ediff1d(p[:,:1]))\n",
    "F = 1/D**7\n",
    "F = np.insert(F,[0,len(F)],[0,0])\n",
    "A = -1* np.ediff1d(F)"
   ]
  },
  {
   "cell_type": "code",
   "execution_count": null,
   "metadata": {},
   "outputs": [],
   "source": [
    "np.sum(0.5*line.state[:,1]**2) + np.sum(np.sqrt(line.D))"
   ]
  },
  {
   "cell_type": "code",
   "execution_count": 242,
   "metadata": {},
   "outputs": [
    {
     "data": {
      "text/plain": [
       "array([[0.34169453, 0.        ],\n",
       "       [0.71934363, 0.        ]])"
      ]
     },
     "execution_count": 242,
     "metadata": {},
     "output_type": "execute_result"
    }
   ],
   "source": [
    "line.init_state.copy()"
   ]
  },
  {
   "cell_type": "code",
   "execution_count": 170,
   "metadata": {},
   "outputs": [
    {
     "data": {
      "text/plain": [
       "array([0.23490017, 0.82613799])"
      ]
     },
     "execution_count": 170,
     "metadata": {},
     "output_type": "execute_result"
    }
   ],
   "source": [
    "positions[301]"
   ]
  },
  {
   "cell_type": "code",
   "execution_count": 61,
   "metadata": {},
   "outputs": [
    {
     "data": {
      "text/plain": [
       "1000"
      ]
     },
     "execution_count": 61,
     "metadata": {},
     "output_type": "execute_result"
    }
   ],
   "source": [
    "len(time)"
   ]
  },
  {
   "cell_type": "code",
   "execution_count": null,
   "metadata": {},
   "outputs": [],
   "source": [
    "len(F)"
   ]
  },
  {
   "cell_type": "code",
   "execution_count": null,
   "metadata": {},
   "outputs": [],
   "source": [
    "p"
   ]
  },
  {
   "cell_type": "code",
   "execution_count": null,
   "metadata": {},
   "outputs": [],
   "source": [
    "a = np.asarray([1000000,20])\n",
    "b = np.asarray([3,4])"
   ]
  },
  {
   "cell_type": "code",
   "execution_count": null,
   "metadata": {},
   "outputs": [],
   "source": [
    "a|b"
   ]
  },
  {
   "cell_type": "code",
   "execution_count": null,
   "metadata": {},
   "outputs": [],
   "source": [
    "200|214"
   ]
  },
  {
   "cell_type": "code",
   "execution_count": 28,
   "metadata": {},
   "outputs": [],
   "source": [
    "X = sorted((np.random.random((5,2)) - 0.5),key=itemgetter(0))"
   ]
  },
  {
   "cell_type": "code",
   "execution_count": 235,
   "metadata": {},
   "outputs": [
    {
     "data": {
      "text/plain": [
       "array([[0.34169453, 0.        ],\n",
       "       [0.71934363, 0.        ]])"
      ]
     },
     "execution_count": 235,
     "metadata": {},
     "output_type": "execute_result"
    }
   ],
   "source": [
    "line.init_state"
   ]
  },
  {
   "cell_type": "code",
   "execution_count": 40,
   "metadata": {},
   "outputs": [
    {
     "data": {
      "text/plain": [
       "array([[ -7.        ,  11.76056679],\n",
       "       [ -6.76865377,   3.44068803],\n",
       "       [ -6.68042411,  -6.40583178],\n",
       "       [ -6.60174378,   3.9655614 ],\n",
       "       [ -6.57403502,   6.34564198],\n",
       "       [ -6.56618808,  -0.18947262],\n",
       "       [ -6.54367323,  -0.53788323],\n",
       "       [ -6.51751667,  -4.88366084],\n",
       "       [ -6.2044274 ,   2.56171195],\n",
       "       [ -6.15531407,  -7.42656748],\n",
       "       [ -5.92008203,  -8.97499095],\n",
       "       [ -5.82102936,   5.02387548],\n",
       "       [ -5.79941517,  -0.39971641],\n",
       "       [ -5.53974499,  -1.51427506],\n",
       "       [ -4.74475168,   3.75876515],\n",
       "       [ -4.55543075,  -3.38833608],\n",
       "       [ -4.4880045 ,  -2.17636753],\n",
       "       [ -4.36257419,  -7.35052597],\n",
       "       [ -4.29642582,  -4.60494931],\n",
       "       [ -4.09892553, -12.19472023],\n",
       "       [ -3.97830139,  -6.09810619],\n",
       "       [ -3.36510896,   0.82518208],\n",
       "       [ -3.3410436 ,   8.64772191],\n",
       "       [ -3.34080433,   5.15304325],\n",
       "       [ -3.3085363 ,   0.70317266],\n",
       "       [ -3.28571342,  -3.35919031],\n",
       "       [ -3.25175569,   0.11098395],\n",
       "       [ -3.1864867 ,  12.64683421],\n",
       "       [ -3.13120317,  -8.21147608],\n",
       "       [ -2.71427763,   7.18431171],\n",
       "       [ -2.67096733,   6.08909731],\n",
       "       [ -2.51422649,   2.45653633],\n",
       "       [ -2.37508151,  -1.76911779],\n",
       "       [ -2.10520276,  18.3985818 ],\n",
       "       [ -2.01632177,  14.95182044],\n",
       "       [ -1.84816469,  -5.17212157],\n",
       "       [ -1.72303952,  11.20757801],\n",
       "       [ -1.4715385 ,   9.5992836 ],\n",
       "       [ -1.43973424,   5.99472436],\n",
       "       [ -1.34609903,  10.6370054 ],\n",
       "       [ -1.28670031,  -7.06925467],\n",
       "       [ -1.20787576,  11.33194708],\n",
       "       [ -0.77370367,   9.71195424],\n",
       "       [ -0.76787012,  -0.33545341],\n",
       "       [ -0.64202975,   7.06798443],\n",
       "       [ -0.40802046,  -1.34319403],\n",
       "       [ -0.37340801,   6.45564362],\n",
       "       [ -0.30654273,  -2.53118963],\n",
       "       [ -0.25616015,  -0.34417557],\n",
       "       [ -0.09971161, -17.69195136],\n",
       "       [  0.25866247,  10.37378507],\n",
       "       [  0.37074568,  12.34500761],\n",
       "       [  0.6029299 ,  -0.37800445],\n",
       "       [  0.6629325 ,  10.85543723],\n",
       "       [  0.95994864,   8.96179761],\n",
       "       [  1.00854003,   0.90791508],\n",
       "       [  1.08092033,   2.62561838],\n",
       "       [  1.09059199,  16.25732829],\n",
       "       [  1.15442021,  11.76359691],\n",
       "       [  1.23899115,   5.52606464],\n",
       "       [  1.27994207,   2.60828239],\n",
       "       [  1.3996233 ,  -7.03643228],\n",
       "       [  1.72947958,   9.99253588],\n",
       "       [  1.89274366,   0.60431756],\n",
       "       [  1.95190006,   8.24864992],\n",
       "       [  1.96784047, -11.60388287],\n",
       "       [  2.02272137,   0.43201885],\n",
       "       [  2.2579109 ,   3.73464926],\n",
       "       [  2.94855944,   4.04340222],\n",
       "       [  3.00975413,   7.67586312],\n",
       "       [  3.21737774,  -6.82778573],\n",
       "       [  3.28575172,   4.49219383],\n",
       "       [  3.28962838,  -2.97795252],\n",
       "       [  3.52912256,   1.41389029],\n",
       "       [  3.85640265,  12.67284167],\n",
       "       [  3.97758168,  -3.17107213],\n",
       "       [  4.01830426, -11.14676659],\n",
       "       [  4.08605832,  11.49227678],\n",
       "       [  4.36501863,   6.72033334],\n",
       "       [  4.46391619, -10.87765317],\n",
       "       [  4.49247749,  -5.57089756],\n",
       "       [  4.61509073, -11.95376176],\n",
       "       [  4.65309429,  -2.7974991 ],\n",
       "       [  4.69313237,   3.56179678],\n",
       "       [  4.72134611,  14.18094419],\n",
       "       [  4.84058416,   5.3513166 ],\n",
       "       [  5.09910537,  -9.56527972],\n",
       "       [  5.19792922, -18.04497174],\n",
       "       [  5.21276012,  -6.51355757],\n",
       "       [  5.3803614 ,   7.8312316 ],\n",
       "       [  5.77397775,  -5.32165079],\n",
       "       [  5.92094534,   4.83998666],\n",
       "       [  6.11044001,   2.4478032 ],\n",
       "       [  6.1309556 ,   4.99572826],\n",
       "       [  6.22962741,  13.41410227],\n",
       "       [  6.56881902,  -0.06680483],\n",
       "       [  6.60701923,  -3.90023719],\n",
       "       [  6.67829692,   2.72614091],\n",
       "       [  6.72720756,  12.35795203],\n",
       "       [  6.94131465,  27.7933046 ]])"
      ]
     },
     "execution_count": 40,
     "metadata": {},
     "output_type": "execute_result"
    }
   ],
   "source": [
    "line"
   ]
  },
  {
   "cell_type": "code",
   "execution_count": 16,
   "metadata": {},
   "outputs": [
    {
     "data": {
      "text/plain": [
       "array([-1.02873382e-02,  8.11413775e-03, -3.21626684e-03,  3.29924580e-03,\n",
       "       -1.80363622e-03, -3.20518853e-04,  5.87319390e-04,  1.28558620e-03,\n",
       "       -1.77578214e-03, -6.20979049e-03,  8.37263732e-03, -1.40506583e-03,\n",
       "       -2.19563012e-03,  5.44373675e-05,  2.21444739e-03, -5.77993598e-03,\n",
       "       -4.81962787e-03,  1.16327760e-02,  4.61177243e-04, -2.04032379e-03,\n",
       "        4.94151159e-04, -2.83139171e-03, -2.61941664e-04,  4.49938749e-03,\n",
       "       -8.57471813e-03,  7.65459171e-03, -5.70616496e-04, -7.53235259e-03,\n",
       "        1.30223472e-03,  3.63730647e-03,  1.59866447e-03,  8.52416346e-04,\n",
       "       -1.10429904e-03,  2.42248682e-03, -5.44244544e-03,  3.23901346e-03,\n",
       "        1.86611359e-03,  3.60321551e-04, -7.79302252e-05, -1.58065319e-03,\n",
       "        1.22570808e-03, -2.40610778e-03,  3.06473267e-04,  3.36033443e-03,\n",
       "       -1.81621013e-03, -8.74399053e-04, -1.18504845e-02,  5.07225749e-03,\n",
       "        6.26165900e-03,  4.60258185e-03])"
      ]
     },
     "execution_count": 16,
     "metadata": {},
     "output_type": "execute_result"
    }
   ],
   "source": [
    "line.state[:,1]"
   ]
  },
  {
   "cell_type": "code",
   "execution_count": null,
   "metadata": {},
   "outputs": [],
   "source": [
    "x = np.asarray([1,2,3,4])\n"
   ]
  },
  {
   "cell_type": "code",
   "execution_count": 38,
   "metadata": {},
   "outputs": [],
   "source": [
    "init_state = 7*(np.random.random((N,2))-0.5)"
   ]
  },
  {
   "cell_type": "code",
   "execution_count": 39,
   "metadata": {},
   "outputs": [
    {
     "data": {
      "text/plain": [
       "array([[-0.43688952,  2.74241101],\n",
       "       [ 3.24563932, -0.81590937],\n",
       "       [ 2.04207527,  0.20226444]])"
      ]
     },
     "execution_count": 39,
     "metadata": {},
     "output_type": "execute_result"
    }
   ],
   "source": [
    "init_state"
   ]
  },
  {
   "cell_type": "code",
   "execution_count": null,
   "metadata": {},
   "outputs": [],
   "source": [
    "line.state"
   ]
  },
  {
   "cell_type": "code",
   "execution_count": null,
   "metadata": {},
   "outputs": [],
   "source": [
    "hist = plt.hist(np.abs(line.state[:,1]),bins=10)"
   ]
  },
  {
   "cell_type": "code",
   "execution_count": 122,
   "metadata": {},
   "outputs": [],
   "source": [
    "hist = ay.hist(np.abs(np.random.randn(30)),bins=3,color='g',density=True)"
   ]
  },
  {
   "cell_type": "code",
   "execution_count": 14,
   "metadata": {},
   "outputs": [
    {
     "data": {
      "text/plain": [
       "array([[-3.3684714 ,  0.82344848],\n",
       "       [-0.        ,  0.        ],\n",
       "       [-3.05096753,  1.34730484],\n",
       "       [-3.00274759, -2.8900949 ],\n",
       "       [-2.67207902,  0.97944715],\n",
       "       [-2.57741496,  1.51429043],\n",
       "       [-2.49652699,  3.11268242],\n",
       "       [-2.38721291, -2.72737401],\n",
       "       [-2.12392347, -0.91892381],\n",
       "       [-2.03786271, -2.37083337],\n",
       "       [-2.02732207, -2.59751592],\n",
       "       [-1.64811072,  1.91963583],\n",
       "       [-1.52035126, -2.65862407],\n",
       "       [-1.47415735, -2.21766047],\n",
       "       [-1.42701862, -2.66890597],\n",
       "       [-1.29200154, -0.9540246 ],\n",
       "       [-1.27411774, -0.60015904],\n",
       "       [-1.27001733,  1.17187266],\n",
       "       [-0.9834447 , -0.44077632],\n",
       "       [-0.5344164 ,  1.02125879],\n",
       "       [-0.43688952,  2.74241101],\n",
       "       [-0.30694767,  0.47903764],\n",
       "       [-0.26964446,  1.96370423],\n",
       "       [-0.23582459, -1.78902086],\n",
       "       [ 0.15293825, -0.59736642],\n",
       "       [ 0.16273637, -2.84241642],\n",
       "       [ 0.34169453,  1.50632556],\n",
       "       [ 0.46621018, -1.64227356],\n",
       "       [ 0.47631193,  2.97917647],\n",
       "       [ 0.49137739, -0.42978941],\n",
       "       [ 0.53162547,  3.00507338],\n",
       "       [ 0.60559054, -3.35924718],\n",
       "       [ 0.71934363,  0.31418228],\n",
       "       [ 0.78467006,  0.81853798],\n",
       "       [ 1.07175828, -1.72695878],\n",
       "       [ 1.09430713, -2.53271934],\n",
       "       [ 1.16736701,  1.19446509],\n",
       "       [ 1.38341837, -3.0784217 ],\n",
       "       [ 1.67484506, -3.22568545],\n",
       "       [ 1.94709726,  2.59008504],\n",
       "       [ 2.04207527,  0.20226444],\n",
       "       [ 2.24695261, -2.82029107],\n",
       "       [ 2.3025802 , -3.46713167],\n",
       "       [ 2.36561435, -2.82731114],\n",
       "       [ 3.10623655,  1.27274209],\n",
       "       [ 3.24563932, -0.81590937],\n",
       "       [ 3.33521626, -0.21944159],\n",
       "       [ 3.33732762,  0.73391864],\n",
       "       [ 3.3503284 ,  2.09410995],\n",
       "       [ 3.41861687, -2.78568632]])"
      ]
     },
     "execution_count": 14,
     "metadata": {},
     "output_type": "execute_result"
    }
   ],
   "source": [
    "init_state"
   ]
  },
  {
   "cell_type": "code",
   "execution_count": 113,
   "metadata": {},
   "outputs": [
    {
     "data": {
      "text/plain": [
       "array([1.47219528, 2.44752183, 0.57703122, 0.10215004, 0.96001426,\n",
       "       2.37660905, 2.09083987, 1.09688316, 3.19188873, 0.7316964 ,\n",
       "       1.51753203, 0.75324277, 1.9047166 , 3.14721113, 2.81130771,\n",
       "       2.98743186, 2.90910449, 0.66700779, 2.32020955, 0.70368063,\n",
       "       0.2952665 , 2.70802054, 0.78120026, 1.22817175, 0.25901163,\n",
       "       3.32256663, 0.68024887, 3.53388143, 3.20838796, 2.74973305,\n",
       "       1.62643825, 0.64936471, 0.78648765, 3.53689028, 1.51236009,\n",
       "       3.64969799, 2.04031957, 2.73796287, 2.55579337, 1.61034376,\n",
       "       0.65840592, 2.41651936, 2.68060949, 1.31972832, 0.50796165,\n",
       "       3.34086432, 2.9079499 , 1.89195074, 3.11295763, 1.62086914,\n",
       "       0.46802001, 0.25731749, 2.33924905, 2.71746417, 0.83322938,\n",
       "       0.22547857, 2.50403728, 0.26684506, 3.12700787, 1.04923081])"
      ]
     },
     "execution_count": 113,
     "metadata": {},
     "output_type": "execute_result"
    }
   ],
   "source": [
    "np.abs(line.state[:,1])"
   ]
  },
  {
   "cell_type": "code",
   "execution_count": 92,
   "metadata": {},
   "outputs": [
    {
     "data": {
      "text/plain": [
       "0"
      ]
     },
     "execution_count": 92,
     "metadata": {},
     "output_type": "execute_result"
    }
   ],
   "source": [
    "1/2"
   ]
  },
  {
   "cell_type": "code",
   "execution_count": 101,
   "metadata": {},
   "outputs": [
    {
     "data": {
      "text/plain": [
       "6"
      ]
     },
     "execution_count": 101,
     "metadata": {},
     "output_type": "execute_result"
    }
   ],
   "source": [
    "12 >> 1"
   ]
  },
  {
   "cell_type": "code",
   "execution_count": 100,
   "metadata": {},
   "outputs": [
    {
     "data": {
      "text/plain": [
       "6.0"
      ]
     },
     "execution_count": 100,
     "metadata": {},
     "output_type": "execute_result"
    }
   ],
   "source": [
    "12*0.5"
   ]
  },
  {
   "cell_type": "code",
   "execution_count": 3,
   "metadata": {},
   "outputs": [
    {
     "name": "stdout",
     "output_type": "stream",
     "text": [
      "Hello World!\n"
     ]
    }
   ],
   "source": [
    "from IPython.display import clear_output\n",
    "\n",
    "for i in range(10):\n",
    "    clear_output(wait=True)\n",
    "    print(\"Hello World!\")"
   ]
  },
  {
   "cell_type": "code",
   "execution_count": null,
   "metadata": {},
   "outputs": [],
   "source": []
  }
 ],
 "metadata": {
  "kernelspec": {
   "display_name": "Python 3",
   "language": "python",
   "name": "python3"
  },
  "language_info": {
   "codemirror_mode": {
    "name": "ipython",
    "version": 3
   },
   "file_extension": ".py",
   "mimetype": "text/x-python",
   "name": "python",
   "nbconvert_exporter": "python",
   "pygments_lexer": "ipython3",
   "version": "3.6.8"
  }
 },
 "nbformat": 4,
 "nbformat_minor": 2
}
